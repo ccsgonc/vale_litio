{
  "cells": [
    {
      "cell_type": "markdown",
      "metadata": {},
      "source": [
        "```{css, echo = FALSE}\n",
        ".justify {\n",
        "  text-align: justify !important\n",
        "}\n",
        "```\n",
        "\n",
        "\n",
        "\n",
        "# Prefácio {.unnumbered}\n",
        "\n",
        "O objetivo desse documento é apresentar característicvas sociais dos municípios pertencentes ao Vale do Lítio em uma forma sintetiza e dinâmica. O documento conta com informações sobre a população, renda, emprego e outros aspectos.\n",
        "\n",
        "Os dados utilizados estão disponíveis na Plataforma do [IMRS](https://imrs.fjp.mg.gov.br/) onde perfis municipais individuais podem ser visulizados [aqui](https://imrs.fjp.mg.gov.br/Perfil).\n",
        "\n",
        "\n",
        "Citar as fontes de dados"
      ],
      "id": "e62e6b06"
    }
  ],
  "metadata": {
    "kernelspec": {
      "display_name": "Python 3",
      "language": "python",
      "name": "python3"
    }
  },
  "nbformat": 4,
  "nbformat_minor": 5
}